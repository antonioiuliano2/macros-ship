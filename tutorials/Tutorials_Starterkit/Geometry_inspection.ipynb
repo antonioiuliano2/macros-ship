{
 "cells": [
  {
   "cell_type": "markdown",
   "metadata": {},
   "source": [
    "# Inspecting geometry information\n",
    "We often would like to check the geometry of our simulation: the size of a volume or its material, for example. Information concerning the geometry is saved along the simulation output, in the `geofile`. FairShip itself provides a macro to read this file: $FAIRSHIP/macro/getGeoInformation.py. I have copied the script in this folder to run it together and load the geometry\n",
    "\n",
    "## Output of the script\n",
    "Launching it with only the -g option (requiring the geofile), will print only the information of the mother volumes, the one directly below the top volume:"
   ]
  },
  {
   "cell_type": "code",
   "execution_count": 6,
   "metadata": {},
   "outputs": [
    {
     "name": "stdout",
     "output_type": "stream",
     "text": [
      "Welcome to JupyROOT 6.18/00\n",
      "   Detector element             z(midpoint)     halflength       volume-start volume-end   dx                x-start       x-end       dy                y-start       y-end         material\n",
      "TargetArea_1                : z=-7156.2500cm  dZ=   72.2500cm  [-7228.5000   -7084.0000] dx=  220.0000cm [ -220.0000     220.0000] dy=  225.0000cm [ -225.0000     225.0000]                dummy\n",
      "rockS_1                     : z=-6813.0000cm  dZ=  271.0000cm  [-7084.0000   -6542.0000] dx= 1500.0000cm [-1500.0000    1500.0000] dy= 1500.0000cm [-1500.0000    1500.0000]             Concrete\n",
      "MuonShieldArea_1            : z=-5272.0000cm  dZ= 1802.0000cm  [-7074.0000   -3470.0000] dx=  999.9000cm [ -999.9000     999.9000] dy=  999.9000cm [ -999.9000     999.9000]                dummy\n",
      "floorM_1                    : z=-4250.0000cm  dZ= 2020.9000cm  [-6270.9000   -2229.1000] dx= 1000.0000cm [-1000.0000    1000.0000] dy=  210.0000cm [-1000.0000    -580.0000]             Concrete\n",
      "tTauNuDet_1                 : z=-2949.0000cm  dZ=  461.0000cm  [-3410.0000   -2488.0000] dx=  129.0000cm [ -129.0000     129.0000] dy=  399.9950cm [ -579.9900     220.0000]                dummy\n",
      "DecayVolume_1               : z=   37.0000cm  dZ= 2518.0000cm  [-2481.0000    2555.0000] dx= 1000.0000cm [-1000.0000    1000.0000] dy=  797.5000cm [-1000.0000     595.0000]                dummy\n",
      "rockD_1                     : z=  750.0000cm  dZ= 7292.0000cm  [-6542.0000    8042.0000] dx= 1500.0000cm [-1500.0000    1500.0000] dy= 1500.0000cm [-1500.0000    1500.0000]             Concrete\n",
      "Tr1_1                       : z= 2598.0000cm  dZ=   20.0000cm  [ 2578.0000    2618.0000] dx=  422.6289cm [ -422.6289     422.6289] dy=  649.8887cm [ -649.8887     649.8887]               vacuum\n",
      "Tr2_2                       : z= 2798.0000cm  dZ=   20.0000cm  [ 2778.0000    2818.0000] dx=  422.6289cm [ -422.6289     422.6289] dy=  649.8887cm [ -649.8887     649.8887]               vacuum\n",
      "SHiPMagnet_1                : z= 3068.0000cm  dZ=  201.0000cm  [ 2867.0000    3269.0000] dx=  373.0000cm [ -373.0000     373.0000] dy=  648.0000cm [ -648.0000     648.0000]                dummy\n",
      "Tr3_3                       : z= 3338.0000cm  dZ=   20.0000cm  [ 3318.0000    3358.0000] dx=  424.6213cm [ -424.6213     424.6213] dy=  650.0630cm [ -650.0630     650.0630]               vacuum\n",
      "Tr4_4                       : z= 3538.0000cm  dZ=   20.0000cm  [ 3518.0000    3558.0000] dx=  424.6213cm [ -424.6213     424.6213] dy=  650.0630cm [ -650.0630     650.0630]               vacuum\n",
      "Timing Detector_1           : z= 3609.7000cm  dZ=    2.3000cm  [ 3607.4000    3612.0000] dx=  250.0000cm [ -250.0000     250.0000] dy=  500.0000cm [ -500.0000     500.0000]                dummy\n",
      "Ecal_1                      : z= 3637.0900cm  dZ=   21.9400cm  [ 3615.1500    3659.0300] dx=  265.0000cm [ -265.0000     265.0000] dy=  530.0000cm [ -530.0000     530.0000]           SensVacuum\n",
      "Hcal_1                      : z= 3715.2000cm  dZ=   53.6818cm  [ 3661.5182    3768.8817] dx=  315.0000cm [ -315.0000     315.0000] dy=  630.0000cm [ -630.0000     630.0000]                 iron\n",
      "MuonDetector_1              : z= 3948.2000cm  dZ=  158.0000cm  [ 3790.2000    4106.2000] dx=  300.0000cm [ -300.0000     300.0000] dy=  600.0000cm [ -600.0000     600.0000]                dummy\n",
      "MagVolume_1                 : z= 3990.2500cm  dZ= 1425.2500cm  [ 2565.0000    5415.5000] dx= 1000.0000cm [-1000.0000    1000.0000] dy=  624.7524cm [-1000.0000     249.5047]                dummy\n"
     ]
    }
   ],
   "source": [
    "run getGeoInformation.py -g geofile_full.conical.Genie-TGeant4.root"
   ]
  },
  {
   "cell_type": "markdown",
   "metadata": {},
   "source": [
    "We can see the half dimensions, position and material of the volume. We can insect the daughters of a specific volume by adding the option `-v volumname -l daugtherlevel`:"
   ]
  },
  {
   "cell_type": "code",
   "execution_count": 7,
   "metadata": {},
   "outputs": [
    {
     "name": "stdout",
     "output_type": "stream",
     "text": [
      "   Detector element             z(midpoint)     halflength       volume-start volume-end   dx                x-start       x-end       dy                y-start       y-end         material\n",
      "TargetArea_1                : z=-7156.2500cm  dZ=   72.2500cm  [-7228.5000   -7084.0000] dx=  220.0000cm [ -220.0000     220.0000] dy=  225.0000cm [ -225.0000     225.0000]                dummy\n",
      "rockS_1                     : z=-6813.0000cm  dZ=  271.0000cm  [-7084.0000   -6542.0000] dx= 1500.0000cm [-1500.0000    1500.0000] dy= 1500.0000cm [-1500.0000    1500.0000]             Concrete\n",
      "MuonShieldArea_1            : z=-5272.0000cm  dZ= 1802.0000cm  [-7074.0000   -3470.0000] dx=  999.9000cm [ -999.9000     999.9000] dy=  999.9000cm [ -999.9000     999.9000]                dummy\n",
      "floorM_1                    : z=-4250.0000cm  dZ= 2020.9000cm  [-6270.9000   -2229.1000] dx= 1000.0000cm [-1000.0000    1000.0000] dy=  210.0000cm [-1000.0000    -580.0000]             Concrete\n",
      "tTauNuDet_1                 : z=-2949.0000cm  dZ=  461.0000cm  [-3410.0000   -2488.0000] dx=  129.0000cm [ -129.0000     129.0000] dy=  399.9950cm [ -579.9900     220.0000]                dummy\n",
      "   PillarVol_1              : z=-3385.0000cm  dZ=   25.0000cm  [-3410.0000   -3360.0000] dx=   25.0000cm [ -110.0000     -60.0000] dy=  189.9950cm [ -579.9900    -200.0000]                steel\n",
      "   PillarVol_2              : z=-3385.0000cm  dZ=   25.0000cm  [-3410.0000   -3360.0000] dx=   25.0000cm [   60.0000     110.0000] dy=  189.9950cm [ -579.9900    -200.0000]                steel\n",
      "   NudetMagnet_1            : z=-3050.0000cm  dZ=  360.0000cm  [-3410.0000   -2690.0000] dx=  110.0000cm [ -110.0000     110.0000] dy=  200.0000cm [ -200.0000     200.0000]                dummy\n",
      "   volSurroundingdetOuter_100: z=-3050.0000cm  dZ=  230.0000cm  [-3280.0000   -2820.0000] dx=   50.0000cm [  -50.0000      50.0000] dy=    5.0000cm [  200.0000     210.0000]               HPTgas\n",
      "   volSurroundingdetOuter_400: z=-3050.0000cm  dZ=  230.0000cm  [-3280.0000   -2820.0000] dx=   50.0000cm [  -50.0000      50.0000] dy=    5.0000cm [ -210.0000    -200.0000]               HPTgas\n",
      "   PillarVol_4              : z=-2715.0000cm  dZ=   25.0000cm  [-2740.0000   -2690.0000] dx=   25.0000cm [   60.0000     110.0000] dy=  189.9950cm [ -579.9900    -200.0000]                steel\n",
      "   PillarVol_3              : z=-2715.0000cm  dZ=   25.0000cm  [-2740.0000   -2690.0000] dx=   25.0000cm [ -110.0000     -60.0000] dy=  189.9950cm [ -579.9900    -200.0000]                steel\n",
      "   Pillar1Vol_1             : z=-2640.0000cm  dZ=   25.0000cm  [-2665.0000   -2615.0000] dx=   20.0000cm [ -129.0000     -89.0000] dy=  182.9950cm [ -579.9900    -214.0000]                steel\n",
      "   Pillar1Vol_2             : z=-2640.0000cm  dZ=   25.0000cm  [-2665.0000   -2615.0000] dx=   20.0000cm [   89.0000     129.0000] dy=  182.9950cm [ -579.9900    -214.0000]                steel\n",
      "   volTauNuMudet_1          : z=-2576.5000cm  dZ=   88.5000cm  [-2665.0000   -2488.0000] dx=  129.0000cm [ -129.0000     129.0000] dy=  220.0000cm [ -220.0000     220.0000]                dummy\n",
      "DecayVolume_1               : z=   37.0000cm  dZ= 2518.0000cm  [-2481.0000    2555.0000] dx= 1000.0000cm [-1000.0000    1000.0000] dy=  797.5000cm [-1000.0000     595.0000]                dummy\n",
      "rockD_1                     : z=  750.0000cm  dZ= 7292.0000cm  [-6542.0000    8042.0000] dx= 1500.0000cm [-1500.0000    1500.0000] dy= 1500.0000cm [-1500.0000    1500.0000]             Concrete\n",
      "Tr1_1                       : z= 2598.0000cm  dZ=   20.0000cm  [ 2578.0000    2618.0000] dx=  422.6289cm [ -422.6289     422.6289] dy=  649.8887cm [ -649.8887     649.8887]               vacuum\n",
      "Tr2_2                       : z= 2798.0000cm  dZ=   20.0000cm  [ 2778.0000    2818.0000] dx=  422.6289cm [ -422.6289     422.6289] dy=  649.8887cm [ -649.8887     649.8887]               vacuum\n",
      "SHiPMagnet_1                : z= 3068.0000cm  dZ=  201.0000cm  [ 2867.0000    3269.0000] dx=  373.0000cm [ -373.0000     373.0000] dy=  648.0000cm [ -648.0000     648.0000]                dummy\n",
      "Tr3_3                       : z= 3338.0000cm  dZ=   20.0000cm  [ 3318.0000    3358.0000] dx=  424.6213cm [ -424.6213     424.6213] dy=  650.0630cm [ -650.0630     650.0630]               vacuum\n",
      "Tr4_4                       : z= 3538.0000cm  dZ=   20.0000cm  [ 3518.0000    3558.0000] dx=  424.6213cm [ -424.6213     424.6213] dy=  650.0630cm [ -650.0630     650.0630]               vacuum\n",
      "Timing Detector_1           : z= 3609.7000cm  dZ=    2.3000cm  [ 3607.4000    3612.0000] dx=  250.0000cm [ -250.0000     250.0000] dy=  500.0000cm [ -500.0000     500.0000]                dummy\n",
      "Ecal_1                      : z= 3637.0900cm  dZ=   21.9400cm  [ 3615.1500    3659.0300] dx=  265.0000cm [ -265.0000     265.0000] dy=  530.0000cm [ -530.0000     530.0000]           SensVacuum\n",
      "Hcal_1                      : z= 3715.2000cm  dZ=   53.6818cm  [ 3661.5182    3768.8817] dx=  315.0000cm [ -315.0000     315.0000] dy=  630.0000cm [ -630.0000     630.0000]                 iron\n",
      "MuonDetector_1              : z= 3948.2000cm  dZ=  158.0000cm  [ 3790.2000    4106.2000] dx=  300.0000cm [ -300.0000     300.0000] dy=  600.0000cm [ -600.0000     600.0000]                dummy\n",
      "MagVolume_1                 : z= 3990.2500cm  dZ= 1425.2500cm  [ 2565.0000    5415.5000] dx= 1000.0000cm [-1000.0000    1000.0000] dy=  624.7524cm [-1000.0000     249.5047]                dummy\n"
     ]
    },
    {
     "name": "stderr",
     "output_type": "stream",
     "text": [
      "Warning in <TGeoManager::Init>: Deleting previous geometry: FAIRGeom/FAIR geometry\n",
      "Info in <TGeoManager::CloseGeometry>: Geometry loaded from file...\n",
      "Info in <TGeoManager::SetTopVolume>: Top volume is cave. Master volume is cave\n",
      "Info in <TGeoManager::Voxelize>: Voxelizing...\n",
      "Info in <TGeoManager::CountLevels>: max level = 9, max placements = 2000\n",
      "Info in <TGeoManager::CloseGeometry>: 8469495 nodes/ 1275 volume UID's in FAIR geometry\n",
      "Info in <TGeoManager::CloseGeometry>: ----------------modeler ready----------------\n"
     ]
    }
   ],
   "source": [
    "run getGeoInformation.py -g geofile_full.conical.Genie-TGeant4.root -v tTauNuDet_1 -l 1"
   ]
  },
  {
   "cell_type": "markdown",
   "metadata": {},
   "source": [
    "## Accesing information about a specific volume\n",
    "Of course, finding a specific volume in this way is quite time-consuming, especially if our desired volume is many levels below the top volume. However, we can directly get our volume by his name thanks to the gGeoManager"
   ]
  },
  {
   "cell_type": "code",
   "execution_count": 8,
   "metadata": {},
   "outputs": [
    {
     "data": {
      "text/plain": [
       "<ROOT.TGeoVolume object (\"volTarget\") at 0x4e4c9e0>"
      ]
     },
     "execution_count": 8,
     "metadata": {},
     "output_type": "execute_result"
    }
   ],
   "source": [
    "volTarget = fGeo.GetVolume(\"volTarget\")\n",
    "volTarget"
   ]
  },
  {
   "cell_type": "markdown",
   "metadata": {},
   "source": [
    "For example, let us ask the half-sizes of our shapes. Remind: different shapes have different size definitions. Vol Target is a simple box, thus we can ask its (DX,DY,DZ) half-dimensions:"
   ]
  },
  {
   "cell_type": "code",
   "execution_count": 9,
   "metadata": {},
   "outputs": [
    {
     "name": "stdout",
     "output_type": "stream",
     "text": [
      "Our target has half-dimensions: (47.2,73.2,125.7) cm\n"
     ]
    }
   ],
   "source": [
    "dx = volTarget.GetShape().GetDX()\n",
    "dy = volTarget.GetShape().GetDY()\n",
    "dz = volTarget.GetShape().GetDZ()\n",
    "print (\"Our target has half-dimensions: ({:.1f},{:.1f},{:.1f}) cm\".format(dx,dy,dz))"
   ]
  },
  {
   "cell_type": "markdown",
   "metadata": {},
   "source": [
    "Another example: often we need the Weight of a volume to predict the number of interactions in it, given the cross section. Let us ask for this quantity:"
   ]
  },
  {
   "cell_type": "code",
   "execution_count": 10,
   "metadata": {},
   "outputs": [
    {
     "data": {
      "text/plain": [
       "7453.881542140798"
      ]
     },
     "execution_count": 10,
     "metadata": {},
     "output_type": "execute_result"
    },
    {
     "name": "stderr",
     "output_type": "stream",
     "text": [
      "Info in <TGeoManager::Weight>: Computing analytically weight of volTarget\n",
      "Info in <TGeoManager::Weight>: Computed weight: 7453.881542 [kg]\n",
      "\n"
     ]
    }
   ],
   "source": [
    "volTarget.Weight()"
   ]
  },
  {
   "cell_type": "markdown",
   "metadata": {},
   "source": [
    "As you notice from the printout, the weight is not a member of the volume, which can automatically be called from the class. It is a computation, by looping on daughters and getting density, more information can be found on TGeoVolume reference: https://root.cern.ch/doc/master/classTGeoVolume.html#a4fe233342614a24c755c34edaca5bbd2, along with all the other functions you can use.\n",
    "\n",
    "For example, we can ask for shape and material properties with a nice printout:"
   ]
  },
  {
   "cell_type": "code",
   "execution_count": 11,
   "metadata": {},
   "outputs": [
    {
     "name": "stdout",
     "output_type": "stream",
     "text": [
      "*** Shape TargetBox: TGeoBBox ***\n",
      "    dX =    47.15750\n",
      "    dY =    73.24750\n",
      "    dZ =   125.68500\n",
      "    origin: x=    0.00000 y=    0.00000 z=    0.00000\n"
     ]
    }
   ],
   "source": [
    "volTarget.InspectShape()"
   ]
  },
  {
   "cell_type": "code",
   "execution_count": 12,
   "metadata": {},
   "outputs": [
    {
     "name": "stdout",
     "output_type": "stream",
     "text": [
      "Mixture air    Aeff=14.8329 Zeff=7.385 rho=0.001205 radlen=30245.4 intlen=71036.3 index=0\n",
      "   Element #0 : N  Z=  7.00 A= 14.01 w= 0.755\n",
      "   Element #1 : O  Z=  8.00 A= 16.00 w= 0.231\n",
      "   Element #2 : AR  Z= 18.00 A= 39.95 w= 0.014\n"
     ]
    }
   ],
   "source": [
    "volTarget.InspectMaterial()"
   ]
  }
 ],
 "metadata": {
  "kernelspec": {
   "display_name": "Python 2",
   "language": "python",
   "name": "python2"
  },
  "language_info": {
   "codemirror_mode": {
    "name": "ipython",
    "version": 2
   },
   "file_extension": ".py",
   "mimetype": "text/x-python",
   "name": "python",
   "nbconvert_exporter": "python",
   "pygments_lexer": "ipython2",
   "version": "2.7.16"
  }
 },
 "nbformat": 4,
 "nbformat_minor": 2
}
