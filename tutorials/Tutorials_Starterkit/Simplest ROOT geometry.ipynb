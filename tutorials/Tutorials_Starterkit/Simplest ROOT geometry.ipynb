{
 "cells": [
  {
   "cell_type": "markdown",
   "metadata": {},
   "source": [
    "# A standalone example of ROOT geometry\n",
    "We will see the 'simplest geometry' example, from ROOT Users Guide. This, altough very basilar, can tell us how the general structure works. \n",
    "## Creating the TGeoManager object\n",
    "Every geometry must contain a TGeoManager instance: this will allow us to navigate in our geometry, and to access all the information we need. We can then access it directly, or by the `gGeoManager` global variable"
   ]
  },
  {
   "cell_type": "code",
   "execution_count": null,
   "metadata": {},
   "outputs": [],
   "source": [
    "TGeoManager *mygeometry = new TGeoManager(\"world\", \"the simplest geometry\");"
   ]
  },
  {
   "cell_type": "markdown",
   "metadata": {},
   "source": [
    "## Creating our first volume\n",
    "The basic brick of the geometry is the `volume`.Each volume represents an un-positioned pieces of the geometry puzzle. In order to be defined, it needs a `medium`, describing the material of our volume."
   ]
  },
  {
   "cell_type": "code",
   "execution_count": null,
   "metadata": {},
   "outputs": [],
   "source": [
    "TGeoMaterial *mat = new TGeoMaterial(\"Vacuum\",0,0,0);\n",
    "TGeoMedium   *med = new TGeoMedium(\"Vacuum\",1,mat);"
   ]
  },
  {
   "cell_type": "markdown",
   "metadata": {},
   "source": [
    "We can now create our volume. We will use the most basic shape: the `Box`, a paralleliped with requres as input the three half-dimensions of the sizes:"
   ]
  },
  {
   "cell_type": "code",
   "execution_count": null,
   "metadata": {},
   "outputs": [],
   "source": [
    "float cm = 1.;\n",
    "TGeoVolume *top = gGeoManager->MakeBox(\"Top\",med,10. * cm,10. * cm,10. * cm);"
   ]
  },
  {
   "cell_type": "markdown",
   "metadata": {},
   "source": [
    "Note: default ROOT units are in centimeters (altough units are arbitrary for actual geometry construction). FairShip follows that convention."
   ]
  },
  {
   "cell_type": "markdown",
   "metadata": {},
   "source": [
    "## Positioning the volume and drawing the geometry\n",
    "We are arrived at the end of our simple example. Now that we have created our volume, we need to put it in our geometry. Since there is still nothing, this will be our `top` volume, the mother of all the other volumes. \n",
    "\n",
    "IMPORTANT: in order to mess the indexing, all the defined volumes should be positioned in the geometry. We cannot leave defined volumes unattended for!"
   ]
  },
  {
   "cell_type": "code",
   "execution_count": null,
   "metadata": {},
   "outputs": [],
   "source": [
    "gGeoManager->SetTopVolume(top);\n",
    "gGeoManager->CloseGeometry();"
   ]
  },
  {
   "cell_type": "markdown",
   "metadata": {},
   "source": [
    "Ready to have a look at our volume! Luckily, the notebook version of ROOT allows for interactive check of geometry displays, not only canvases! Let's just activate jsroot and draw our volume:"
   ]
  },
  {
   "cell_type": "code",
   "execution_count": null,
   "metadata": {},
   "outputs": [],
   "source": [
    "%jsroot on "
   ]
  },
  {
   "cell_type": "code",
   "execution_count": null,
   "metadata": {},
   "outputs": [],
   "source": [
    "top->SetLineColor(kMagenta);\n",
    "gGeoManager->SetTopVisible(); //the top volume is usually invisible\n",
    "top->Draw();"
   ]
  },
  {
   "cell_type": "code",
   "execution_count": null,
   "metadata": {},
   "outputs": [],
   "source": [
    "TGeoSphere *sphere = new TGeoSphere(\"sphere\",0,2,0,180,0,360);"
   ]
  },
  {
   "cell_type": "code",
   "execution_count": null,
   "metadata": {},
   "outputs": [],
   "source": [
    "TGeoVolume *volsphere = new TGeoVolume(\"volsphere\",sphere,med);"
   ]
  },
  {
   "cell_type": "code",
   "execution_count": null,
   "metadata": {},
   "outputs": [],
   "source": [
    "top->AddNode(volsphere,1,new TGeoTranslation(0,0,-2));\n",
    "top->AddNode(volsphere,2,new TGeoTranslation(0,0,2));"
   ]
  },
  {
   "cell_type": "code",
   "execution_count": null,
   "metadata": {},
   "outputs": [],
   "source": [
    "volsphere->SetLineColor(kRed);"
   ]
  },
  {
   "cell_type": "code",
   "execution_count": null,
   "metadata": {},
   "outputs": [],
   "source": [
    "gGeoManager->SetTopVolume(top);\n",
    "gGeoManager->CloseGeometry();"
   ]
  },
  {
   "cell_type": "code",
   "execution_count": null,
   "metadata": {},
   "outputs": [],
   "source": [
    "gGeoManager->GetTopVolume()->Draw()"
   ]
  },
  {
   "cell_type": "code",
   "execution_count": null,
   "metadata": {},
   "outputs": [],
   "source": []
  }
 ],
 "metadata": {
  "kernelspec": {
   "display_name": "ROOT C++",
   "language": "c++",
   "name": "root"
  },
  "language_info": {
   "codemirror_mode": "text/x-c++src",
   "file_extension": ".C",
   "mimetype": " text/x-c++src",
   "name": "c++"
  }
 },
 "nbformat": 4,
 "nbformat_minor": 2
}
