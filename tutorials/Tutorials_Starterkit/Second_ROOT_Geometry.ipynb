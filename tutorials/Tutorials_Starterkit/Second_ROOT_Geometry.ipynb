{
 "cells": [
  {
   "cell_type": "markdown",
   "metadata": {},
   "source": [
    "# A standalone example of ROOT geometry\n",
    "We will see the 'simplest geometry' example, from ROOT Users Guide. This, altough very basilar, can tell us how the general structure works. \n",
    "## Creating the TGeoManager object\n",
    "Every geometry must contain a TGeoManager instance: this will allow us to navigate in our geometry, and to access all the information we need. We can then access it directly, or by the `gGeoManager` global variable"
   ]
  },
  {
   "cell_type": "code",
   "execution_count": 1,
   "metadata": {},
   "outputs": [
    {
     "name": "stderr",
     "output_type": "stream",
     "text": [
      "Info in <TGeoManager::TGeoManager>: Geometry world, the simplest geometry created\n"
     ]
    }
   ],
   "source": [
    "TGeoManager *mygeometry = new TGeoManager(\"world\", \"the simplest geometry\");"
   ]
  },
  {
   "cell_type": "markdown",
   "metadata": {},
   "source": [
    "## Creating our first volume\n",
    "The basic brick of the geometry is the `volume`.Each volume represents an un-positioned pieces of the geometry puzzle. In order to be defined, it needs a `medium`, describing the material of our volume."
   ]
  },
  {
   "cell_type": "code",
   "execution_count": 2,
   "metadata": {},
   "outputs": [],
   "source": [
    "TGeoMaterial *mat = new TGeoMaterial(\"Vacuum\",0,0,0);\n",
    "TGeoMedium   *med = new TGeoMedium(\"Vacuum\",1,mat);"
   ]
  },
  {
   "cell_type": "markdown",
   "metadata": {},
   "source": [
    "We can now create our volume. We will use the most basic shape: the `Box`, a paralleliped with requres as input the three half-dimensions of the sizes:"
   ]
  },
  {
   "cell_type": "code",
   "execution_count": 3,
   "metadata": {},
   "outputs": [],
   "source": [
    "float cm = 1.;\n",
    "TGeoVolume *top = gGeoManager->MakeBox(\"Top\",med,10. * cm,10. * cm,10. * cm);"
   ]
  },
  {
   "cell_type": "markdown",
   "metadata": {},
   "source": [
    "Note: default ROOT units are in centimeters (altough units are arbitrary for actual geometry construction). FairShip follows that convention."
   ]
  },
  {
   "cell_type": "markdown",
   "metadata": {},
   "source": [
    "## Creating a composite shape\n",
    "As an example of composite shape, we can build a box with a spherical cavity. We need then only two primitive shapes: a TGeoBBox for the actual box and a TGeoSphere for the cavity."
   ]
  },
  {
   "cell_type": "code",
   "execution_count": 4,
   "metadata": {},
   "outputs": [],
   "source": [
    "TGeoBBox * externalbox = new TGeoBBox(\"EB\",2*cm,2*cm,2*cm);\n",
    "TGeoSphere *internalsphere = new TGeoSphere(\"IS\",0,1,0,180,0,360);"
   ]
  },
  {
   "cell_type": "markdown",
   "metadata": {},
   "source": [
    "Applying the relative transformation, we can put the cavity wherever we want in our box. \n",
    "Please notice that the transformation must be named and registered, otherwise the boolean operation cannot recognize it, when we build the composite shape"
   ]
  },
  {
   "cell_type": "code",
   "execution_count": 5,
   "metadata": {},
   "outputs": [],
   "source": [
    "TGeoTranslation *mytrans1 = new TGeoTranslation(\"mytrans1\",-1 *cm, 0, 1 *cm);\n",
    "mytrans1->SetName(\"mytrans1\");\n",
    "mytrans1->RegisterYourself();"
   ]
  },
  {
   "cell_type": "markdown",
   "metadata": {},
   "source": [
    "Having defined the primitives and their relative transformation, we are ready to build the composite shape. Then we associate the shape to a new volume."
   ]
  },
  {
   "cell_type": "code",
   "execution_count": 6,
   "metadata": {},
   "outputs": [],
   "source": [
    "TGeoCompositeShape * hollowbox = new TGeoCompositeShape(\"hollowbox\",\"EB-(IS:mytrans1)\");\n",
    "TGeoVolume *volcomposite = new TGeoVolume(\"volcomposite\",hollowbox,med);"
   ]
  },
  {
   "cell_type": "markdown",
   "metadata": {},
   "source": [
    "## Positioning daughter volumes\n",
    "With expection of the `top` volume, TGeoVolume instances are positioned inside another one, according to a hierarchy based on `containment`. The method to do so is called AddNode(), called from the mother volume and accepting the daughter volume as argument."
   ]
  },
  {
   "cell_type": "code",
   "execution_count": 7,
   "metadata": {},
   "outputs": [],
   "source": [
    "top->AddNode(volcomposite,1,new TGeoTranslation(0,0,-5*cm));\n",
    "top->AddNode(volcomposite,2,new TGeoTranslation(0,0,5*cm));"
   ]
  },
  {
   "cell_type": "code",
   "execution_count": 8,
   "metadata": {},
   "outputs": [],
   "source": [
    "volcomposite->SetLineColor(kRed);\n",
    "volcomposite->SetTransparency(50);"
   ]
  },
  {
   "cell_type": "code",
   "execution_count": 9,
   "metadata": {},
   "outputs": [
    {
     "name": "stderr",
     "output_type": "stream",
     "text": [
      "Info in <TGeoManager::SetTopVolume>: Top volume is Top. Master volume is Top\n",
      "Info in <TGeoNavigator::BuildCache>: --- Maximum geometry depth set to 100\n",
      "Info in <TGeoManager::CheckGeometry>: Fixing runtime shapes...\n",
      "Info in <TGeoManager::CheckGeometry>: ...Nothing to fix\n",
      "Info in <TGeoManager::CloseGeometry>: Counting nodes...\n",
      "Info in <TGeoManager::Voxelize>: Voxelizing...\n",
      "Info in <TGeoManager::CloseGeometry>: Building cache...\n",
      "Info in <TGeoManager::CountLevels>: max level = 1, max placements = 2\n",
      "Info in <TGeoManager::CloseGeometry>: 3 nodes/ 2 volume UID's in the simplest geometry\n",
      "Info in <TGeoManager::CloseGeometry>: ----------------modeler ready----------------\n"
     ]
    }
   ],
   "source": [
    "gGeoManager->SetTopVolume(top);\n",
    "gGeoManager->CloseGeometry();"
   ]
  },
  {
   "cell_type": "markdown",
   "metadata": {},
   "source": [
    "Ready to have a look at our volume! Luckily, the notebook version of ROOT allows for interactive check of geometry displays, not only canvases! Let's just activate jsroot and draw our volume:"
   ]
  },
  {
   "cell_type": "code",
   "execution_count": 10,
   "metadata": {},
   "outputs": [
    {
     "data": {
      "text/html": [
       "\n",
       "<div id=\"root_plot_1\"\n",
       "     style=\"width: 600px; height: 600px\">\n",
       "</div>\n",
       "\n",
       "<script>\n",
       " requirejs.config({\n",
       "     paths: {\n",
       "       'JSRootCore' : 'https://root.cern.ch/js/notebook//scripts/JSRootCore',\n",
       "     }\n",
       "   });\n",
       " require(['JSRootCore'],\n",
       "     function(Core) {\n",
       "       var obj = Core.JSONR_unref({\"_typename\":\"TGeoVolume\",\"fUniqueID\":0,\"fBits\":59768840,\"fName\":\"Top\",\"fTitle\":\"Top volume\",\"fGeoAtt\":3084,\"fLineColor\":1,\"fLineStyle\":1,\"fLineWidth\":1,\"fFillColor\":19,\"fFillStyle\":1001,\"fNodes\":{\"_typename\":\"TObjArray\",\"name\":\"TObjArray\",\"arr\":[{\"_typename\":\"TGeoNodeMatrix\",\"fUniqueID\":0,\"fBits\":50331648,\"fName\":\"volcomposite_1\",\"fTitle\":\"\",\"fGeoAtt\":3084,\"fVolume\":{\"_typename\":\"TGeoVolume\",\"fUniqueID\":0,\"fBits\":58736640,\"fName\":\"volcomposite\",\"fTitle\":\"\",\"fGeoAtt\":3212,\"fLineColor\":632,\"fLineStyle\":1,\"fLineWidth\":1,\"fFillColor\":19,\"fFillStyle\":1001,\"fNodes\":null,\"fShape\":{\"_typename\":\"TGeoCompositeShape\",\"fUniqueID\":0,\"fBits\":50331648,\"fName\":\"hollowbox\",\"fTitle\":\"EB-(IS:mytrans1)\",\"fShapeId\":256,\"fShapeBits\":33555456,\"fDX\":2,\"fDY\":2,\"fDZ\":2,\"fOrigin\":[0,0,0],\"fNode\":{\"_typename\":\"TGeoSubtraction\",\"fUniqueID\":0,\"fBits\":50331648,\"fLeft\":{\"_typename\":\"TGeoBBox\",\"fUniqueID\":0,\"fBits\":50331648,\"fName\":\"EB\",\"fTitle\":\"\",\"fShapeId\":256,\"fShapeBits\":1024,\"fDX\":2,\"fDY\":2,\"fDZ\":2,\"fOrigin\":[0,0,0]},\"fRight\":{\"_typename\":\"TGeoSphere\",\"fUniqueID\":0,\"fBits\":50331648,\"fName\":\"IS\",\"fTitle\":\"\",\"fShapeId\":256,\"fShapeBits\":5120,\"fDX\":1,\"fDY\":1,\"fDZ\":1,\"fOrigin\":[0,0,0],\"fNz\":11,\"fNseg\":20,\"fRmin\":0,\"fRmax\":1,\"fTheta1\":0,\"fTheta2\":180,\"fPhi1\":0,\"fPhi2\":360},\"fLeftMat\":{\"_typename\":\"TGeoIdentity\",\"fUniqueID\":0,\"fBits\":52428800,\"fName\":\"Identity\",\"fTitle\":\"\"},\"fRightMat\":{\"_typename\":\"TGeoTranslation\",\"fUniqueID\":0,\"fBits\":52559872,\"fName\":\"mytrans1\",\"fTitle\":\"\",\"fTranslation\":[-1,0,1]}}},\"fMedium\":{\"_typename\":\"TGeoMedium\",\"fUniqueID\":0,\"fBits\":50331648,\"fName\":\"Vacuum\",\"fTitle\":\"\",\"fId\":1,\"fParams\":[0,0,0,0,0,0,0,0,0,0,0,0,0,0,0,0,0,0,0,0],\"fMaterial\":{\"_typename\":\"TGeoMaterial\",\"fUniqueID\":0,\"fBits\":50462720,\"fName\":\"Vacuum\",\"fTitle\":\"\",\"fFillColor\":19,\"fFillStyle\":3050,\"fIndex\":0,\"fA\":0,\"fZ\":0,\"fDensity\":0,\"fRadLen\":1e30,\"fIntLen\":1e30,\"fTemperature\":273.15,\"fPressure\":632420000,\"fState\":0,\"fShader\":null,\"fCerenkov\":null,\"fElement\":null}},\"fFinder\":null,\"fVoxels\":null,\"fNumber\":2,\"fNtotal\":1,\"fRefCount\":2},\"fMother\":{\"$ref\":0},\"fNumber\":1,\"fNovlp\":0,\"fOverlaps\":[],\"fMatrix\":{\"_typename\":\"TGeoTranslation\",\"fUniqueID\":0,\"fBits\":52559872,\"fName\":\"\",\"fTitle\":\"\",\"fTranslation\":[0,0,-5]}},{\"_typename\":\"TGeoNodeMatrix\",\"fUniqueID\":0,\"fBits\":50331648,\"fName\":\"volcomposite_2\",\"fTitle\":\"\",\"fGeoAtt\":3084,\"fVolume\":{\"$ref\":3},\"fMother\":{\"$ref\":0},\"fNumber\":2,\"fNovlp\":0,\"fOverlaps\":[],\"fMatrix\":{\"_typename\":\"TGeoTranslation\",\"fUniqueID\":0,\"fBits\":52559872,\"fName\":\"\",\"fTitle\":\"\",\"fTranslation\":[0,0,5]}}]},\"fShape\":{\"_typename\":\"TGeoBBox\",\"fUniqueID\":0,\"fBits\":50331648,\"fName\":\"Top\",\"fTitle\":\"\",\"fShapeId\":256,\"fShapeBits\":1024,\"fDX\":10,\"fDY\":10,\"fDZ\":10,\"fOrigin\":[0,0,0]},\"fMedium\":{\"$ref\":10},\"fFinder\":null,\"fVoxels\":null,\"fNumber\":1,\"fNtotal\":3,\"fRefCount\":2});\n",
       "       Core.draw(\"root_plot_1\", obj, \"all\");\n",
       "     }\n",
       " );\n",
       "</script>\n"
      ],
      "text/plain": [
       "<IPython.core.display.HTML object>"
      ]
     },
     "metadata": {},
     "output_type": "display_data"
    },
    {
     "name": "stderr",
     "output_type": "stream",
     "text": [
      "Info in <TCanvas::MakeDefCanvas>:  created default TCanvas with name c1\n"
     ]
    }
   ],
   "source": [
    "gGeoManager->GetTopVolume()->Draw()"
   ]
  },
  {
   "cell_type": "code",
   "execution_count": null,
   "metadata": {},
   "outputs": [],
   "source": []
  },
  {
   "cell_type": "code",
   "execution_count": null,
   "metadata": {},
   "outputs": [],
   "source": []
  }
 ],
 "metadata": {
  "kernelspec": {
   "display_name": "ROOT C++",
   "language": "c++",
   "name": "root"
  },
  "language_info": {
   "codemirror_mode": "text/x-c++src",
   "file_extension": ".C",
   "mimetype": " text/x-c++src",
   "name": "c++"
  }
 },
 "nbformat": 4,
 "nbformat_minor": 2
}
