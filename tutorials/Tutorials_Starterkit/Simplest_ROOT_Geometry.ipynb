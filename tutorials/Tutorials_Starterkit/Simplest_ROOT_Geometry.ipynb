{
 "cells": [
  {
   "cell_type": "markdown",
   "metadata": {},
   "source": [
    "# A standalone example of ROOT geometry\n",
    "We will see the 'simplest geometry' example, from ROOT Users Guide. This, altough very basilar, can tell us how the general structure works. \n",
    "## Creating the TGeoManager object\n",
    "Every geometry must contain a TGeoManager instance: this will allow us to navigate in our geometry, and to access all the information we need. We can then access it directly, or by the `gGeoManager` global variable"
   ]
  },
  {
   "cell_type": "code",
   "execution_count": 1,
   "metadata": {},
   "outputs": [
    {
     "name": "stderr",
     "output_type": "stream",
     "text": [
      "Info in <TGeoManager::TGeoManager>: Geometry world, the simplest geometry created\n"
     ]
    }
   ],
   "source": [
    "TGeoManager *mygeometry = new TGeoManager(\"world\", \"the simplest geometry\");"
   ]
  },
  {
   "cell_type": "markdown",
   "metadata": {},
   "source": [
    "## Creating our first volume\n",
    "The basic brick of the geometry is the `volume`.Each volume represents an un-positioned pieces of the geometry puzzle. In order to be defined, it needs a `medium`, describing the material of our volume."
   ]
  },
  {
   "cell_type": "code",
   "execution_count": 2,
   "metadata": {},
   "outputs": [],
   "source": [
    "TGeoMaterial *mat = new TGeoMaterial(\"Vacuum\",0,0,0);\n",
    "TGeoMedium   *med = new TGeoMedium(\"Vacuum\",1,mat);"
   ]
  },
  {
   "cell_type": "markdown",
   "metadata": {},
   "source": [
    "We can now create our volume. We will use the most basic shape: the `Box`, a paralleliped with requres as input the three half-dimensions of the sizes:"
   ]
  },
  {
   "cell_type": "code",
   "execution_count": 3,
   "metadata": {},
   "outputs": [],
   "source": [
    "float cm = 1.;\n",
    "TGeoVolume *top = gGeoManager->MakeBox(\"Top\",med,10. * cm,10. * cm,10. * cm);"
   ]
  },
  {
   "cell_type": "markdown",
   "metadata": {},
   "source": [
    "Note: default ROOT units are in centimeters (altough units are arbitrary for actual geometry construction). FairShip follows that convention."
   ]
  },
  {
   "cell_type": "markdown",
   "metadata": {},
   "source": [
    "## Positioning the volume and drawing the geometry\n",
    "We are arrived at the end of our simple example. Now that we have created our volume, we need to put it in our geometry. Since there is still nothing, this will be our `top` volume, the mother of all the other volumes. \n",
    "\n",
    "IMPORTANT: in order to mess the indexing, all the defined volumes should be positioned in the geometry. We cannot leave defined volumes unattended for!"
   ]
  },
  {
   "cell_type": "code",
   "execution_count": 4,
   "metadata": {},
   "outputs": [
    {
     "name": "stderr",
     "output_type": "stream",
     "text": [
      "Info in <TGeoManager::SetTopVolume>: Top volume is Top. Master volume is Top\n",
      "Info in <TGeoNavigator::BuildCache>: --- Maximum geometry depth set to 100\n",
      "Info in <TGeoManager::CheckGeometry>: Fixing runtime shapes...\n",
      "Info in <TGeoManager::CheckGeometry>: ...Nothing to fix\n",
      "Info in <TGeoManager::CloseGeometry>: Counting nodes...\n",
      "Info in <TGeoManager::Voxelize>: Voxelizing...\n",
      "Info in <TGeoManager::CloseGeometry>: Building cache...\n",
      "Info in <TGeoManager::CountLevels>: max level = 1, max placements = 0\n",
      "Info in <TGeoManager::CloseGeometry>: 1 nodes/ 1 volume UID's in the simplest geometry\n",
      "Info in <TGeoManager::CloseGeometry>: ----------------modeler ready----------------\n"
     ]
    }
   ],
   "source": [
    "gGeoManager->SetTopVolume(top);\n",
    "gGeoManager->CloseGeometry();"
   ]
  },
  {
   "cell_type": "markdown",
   "metadata": {},
   "source": [
    "Ready to have a look at our volume! Luckily, the notebook version of ROOT allows for interactive check of geometry displays, not only canvases! Let's just activate jsroot and draw our volume:"
   ]
  },
  {
   "cell_type": "code",
   "execution_count": 5,
   "metadata": {},
   "outputs": [],
   "source": [
    "%jsroot on "
   ]
  },
  {
   "cell_type": "code",
   "execution_count": 6,
   "metadata": {},
   "outputs": [
    {
     "data": {
      "text/html": [
       "\n",
       "<div id=\"root_plot_1\"\n",
       "     style=\"width: 600px; height: 600px\">\n",
       "</div>\n",
       "\n",
       "<script>\n",
       " requirejs.config({\n",
       "     paths: {\n",
       "       'JSRootCore' : 'https://root.cern.ch/js/notebook//scripts/JSRootCore',\n",
       "     }\n",
       "   });\n",
       " require(['JSRootCore'],\n",
       "     function(Core) {\n",
       "       var obj = Core.JSONR_unref({\"_typename\":\"TGeoVolume\",\"fUniqueID\":0,\"fBits\":58720264,\"fName\":\"Top\",\"fTitle\":\"Top volume\",\"fGeoAtt\":3212,\"fLineColor\":616,\"fLineStyle\":1,\"fLineWidth\":1,\"fFillColor\":19,\"fFillStyle\":1001,\"fNodes\":null,\"fShape\":{\"_typename\":\"TGeoBBox\",\"fUniqueID\":0,\"fBits\":50331648,\"fName\":\"Top\",\"fTitle\":\"\",\"fShapeId\":256,\"fShapeBits\":1024,\"fDX\":10,\"fDY\":10,\"fDZ\":10,\"fOrigin\":[0,0,0]},\"fMedium\":{\"_typename\":\"TGeoMedium\",\"fUniqueID\":0,\"fBits\":50331648,\"fName\":\"Vacuum\",\"fTitle\":\"\",\"fId\":1,\"fParams\":[0,0,0,0,0,0,0,0,0,0,0,0,0,0,0,0,0,0,0,0],\"fMaterial\":{\"_typename\":\"TGeoMaterial\",\"fUniqueID\":0,\"fBits\":50462720,\"fName\":\"Vacuum\",\"fTitle\":\"\",\"fFillColor\":19,\"fFillStyle\":1001,\"fIndex\":0,\"fA\":0,\"fZ\":0,\"fDensity\":0,\"fRadLen\":1e30,\"fIntLen\":1e30,\"fTemperature\":273.15,\"fPressure\":632420000,\"fState\":0,\"fShader\":null,\"fCerenkov\":null,\"fElement\":null,\"fProperties\":{\"_typename\":\"TList\",\"name\":\"TList\",\"arr\":[],\"opt\":[]},\"fConstProperties\":{\"_typename\":\"TList\",\"name\":\"TList\",\"arr\":[],\"opt\":[]}}},\"fFinder\":null,\"fVoxels\":null,\"fNumber\":1,\"fNtotal\":1,\"fRefCount\":1});\n",
       "       Core.draw(\"root_plot_1\", obj, \"all\");\n",
       "     }\n",
       " );\n",
       "</script>\n"
      ],
      "text/plain": [
       "<IPython.core.display.HTML object>"
      ]
     },
     "metadata": {},
     "output_type": "display_data"
    },
    {
     "name": "stderr",
     "output_type": "stream",
     "text": [
      "Info in <TCanvas::MakeDefCanvas>:  created default TCanvas with name c1\n"
     ]
    }
   ],
   "source": [
    "top->SetLineColor(kMagenta);\n",
    "gGeoManager->SetTopVisible(); //the top volume is usually invisible\n",
    "top->Draw();"
   ]
  }
 ],
 "metadata": {
  "kernelspec": {
   "display_name": "ROOT C++",
   "language": "c++",
   "name": "root"
  },
  "language_info": {
   "codemirror_mode": "text/x-c++src",
   "file_extension": ".C",
   "mimetype": " text/x-c++src",
   "name": "c++"
  }
 },
 "nbformat": 4,
 "nbformat_minor": 2
}
