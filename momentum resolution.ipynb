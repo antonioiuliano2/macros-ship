{
 "cells": [
  {
   "cell_type": "code",
   "execution_count": 5,
   "metadata": {},
   "outputs": [],
   "source": [
    "import ROOT"
   ]
  },
  {
   "cell_type": "markdown",
   "metadata": {},
   "source": [
    "## momentum resolution formula\n",
    "$$\\frac{\\sigma(p)}{p}=\\frac{\\sqrt{\\frac{3}{2}}*\\sigma(x)[m]*8 *p[GeV/c]}{0.3*B[T]*(L[m])^2}$$\n",
    "\n",
    "From there we can estimate the slope of $\\frac{\\sigma(p)}{p}$ resolution vs momentum:\n",
    "$$m[(GeV/c)^{-1}]=\\frac{\\sqrt{\\frac{3}{2}}*\\sigma(x)[m]*8}{0.3*B[T]*(L[m])^2}$$"
   ]
  },
  {
   "cell_type": "code",
   "execution_count": 6,
   "metadata": {},
   "outputs": [],
   "source": [
    "slope = ROOT.TF2(\"slope\",\"TMath::Sqrt(3/2.)*x*8/(0.3*[0]*y*y)\") \n",
    "#0 parameter is field in Tesla, x is position resolution in m and y is length in m\n"
   ]
  },
  {
   "cell_type": "code",
   "execution_count": 7,
   "metadata": {},
   "outputs": [],
   "source": [
    "slope.SetParameter(0,1.25)"
   ]
  },
  {
   "cell_type": "code",
   "execution_count": 8,
   "metadata": {},
   "outputs": [
    {
     "data": {
      "text/plain": [
       "0.0014494022146646023"
      ]
     },
     "execution_count": 8,
     "metadata": {},
     "output_type": "execute_result"
    }
   ],
   "source": [
    "slope.Eval(60e-6,1.04)"
   ]
  },
  {
   "cell_type": "code",
   "execution_count": null,
   "metadata": {},
   "outputs": [],
   "source": []
  }
 ],
 "metadata": {
  "kernelspec": {
   "display_name": "Python 2",
   "language": "python",
   "name": "python2"
  },
  "language_info": {
   "codemirror_mode": {
    "name": "ipython",
    "version": 2
   },
   "file_extension": ".py",
   "mimetype": "text/x-python",
   "name": "python",
   "nbconvert_exporter": "python",
   "pygments_lexer": "ipython2",
   "version": "2.7.14"
  }
 },
 "nbformat": 4,
 "nbformat_minor": 2
}
