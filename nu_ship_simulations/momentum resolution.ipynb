{
 "cells": [
  {
   "cell_type": "markdown",
   "metadata": {},
   "source": [
    "## From natural to SI unit conversion\n",
    "Equivalence between Lorentz force and mass per centripetal acceleration leads to the formula for the radius:\n",
    "$$\\rho = \\frac{p}{eB}$$\n",
    "Usually we want momentum to be in GeV/c and radius to be in meters. We can use the dimensional relationship p = E/c to achieve the value of momentum in kg * m/s:"
   ]
  },
  {
   "cell_type": "code",
   "execution_count": 2,
   "metadata": {},
   "outputs": [
    {
     "data": {
      "text/plain": [
       "5.344288214215182e-19"
      ]
     },
     "execution_count": 2,
     "metadata": {},
     "output_type": "execute_result"
    }
   ],
   "source": [
    "momentum = 1.6021773e-19/(2.99792458e+8) * 1e+9 #eV to J conversion, divided by c speed * GeV to eV factor \n",
    "momentum"
   ]
  },
  {
   "cell_type": "markdown",
   "metadata": {},
   "source": [
    "Then we need to divide again for the electron charge from the formula:"
   ]
  },
  {
   "cell_type": "code",
   "execution_count": 3,
   "metadata": {},
   "outputs": [
    {
     "data": {
      "text/plain": [
       "3.3356409519815204"
      ]
     },
     "execution_count": 3,
     "metadata": {},
     "output_type": "execute_result"
    }
   ],
   "source": [
    "momentum/ 1.6021773e-19"
   ]
  },
  {
   "cell_type": "markdown",
   "metadata": {},
   "source": [
    "We obtain then the formula in the usually shown form:\n",
    "$$ \\rho[m] = 3.33 \\frac{p[GeV/c]}{B[T]} = \\frac{p[GeV/c]}{0.3 * B[T]} $$"
   ]
  },
  {
   "cell_type": "markdown",
   "metadata": {},
   "source": [
    "## Example: distance between DTs\n",
    "Our nutau target has 5 DTstations, where currently the distance is 148 cm = 1.48 m. Magnetic field is about 1.2 T in target region, therefore the minimum momentum is:"
   ]
  },
  {
   "cell_type": "code",
   "execution_count": 12,
   "metadata": {},
   "outputs": [
    {
     "data": {
      "text/plain": [
       "4.533333333333333"
      ]
     },
     "execution_count": 12,
     "metadata": {},
     "output_type": "execute_result"
    }
   ],
   "source": [
    "1.7/(1.25*0.3)"
   ]
  },
  {
   "cell_type": "code",
   "execution_count": 5,
   "metadata": {},
   "outputs": [],
   "source": [
    "import ROOT"
   ]
  },
  {
   "cell_type": "markdown",
   "metadata": {},
   "source": [
    "## momentum resolution formula\n",
    "$$\\frac{\\sigma(p)}{p}=\\frac{\\sqrt{\\frac{3}{2}}*\\sigma(x)[m]*8 *p[GeV/c]}{0.3*B[T]*(L[m])^2}$$\n",
    "\n",
    "From there we can estimate the slope of $\\frac{\\sigma(p)}{p}$ resolution vs momentum:\n",
    "$$m[(GeV/c)^{-1}]=\\frac{\\sqrt{\\frac{3}{2}}*\\sigma(x)[m]*8}{0.3*B[T]*(L[m])^2}$$"
   ]
  },
  {
   "cell_type": "code",
   "execution_count": 6,
   "metadata": {},
   "outputs": [],
   "source": [
    "slope = ROOT.TF2(\"slope\",\"TMath::Sqrt(3/2.)*x*8/(0.3*[0]*y*y)\") \n",
    "#0 parameter is field in Tesla, x is position resolution in m and y is length in m\n"
   ]
  },
  {
   "cell_type": "code",
   "execution_count": 7,
   "metadata": {},
   "outputs": [],
   "source": [
    "slope.SetParameter(0,1.25)"
   ]
  },
  {
   "cell_type": "code",
   "execution_count": 8,
   "metadata": {},
   "outputs": [
    {
     "data": {
      "text/plain": [
       "0.0014494022146646023"
      ]
     },
     "execution_count": 8,
     "metadata": {},
     "output_type": "execute_result"
    }
   ],
   "source": [
    "slope.Eval(60e-6,1.04)"
   ]
  },
  {
   "cell_type": "code",
   "execution_count": null,
   "metadata": {},
   "outputs": [],
   "source": []
  }
 ],
 "metadata": {
  "kernelspec": {
   "display_name": "Python 2",
   "language": "python",
   "name": "python2"
  },
  "language_info": {
   "codemirror_mode": {
    "name": "ipython",
    "version": 3
   },
   "file_extension": ".py",
   "mimetype": "text/x-python",
   "name": "python",
   "nbconvert_exporter": "python",
   "pygments_lexer": "ipython3",
   "version": "3.7.3"
  }
 },
 "nbformat": 4,
 "nbformat_minor": 2
}
