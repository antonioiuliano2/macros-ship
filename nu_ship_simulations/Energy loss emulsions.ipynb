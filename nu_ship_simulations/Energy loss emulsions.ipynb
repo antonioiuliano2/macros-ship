{
 "cells": [
  {
   "cell_type": "markdown",
   "metadata": {},
   "source": [
    "## Energy loss approximation\n",
    "In light absorber materials, the energy loss of minimum-ionising particles can be roughly represented by\n",
    "$$\n",
    "-\\frac{dE}{dX} \\approx \\frac{2 \\mbox{ MeV}}{g/cm^2}\n",
    "$$"
   ]
  },
  {
   "cell_type": "code",
   "execution_count": 1,
   "metadata": {},
   "outputs": [],
   "source": [
    "//%jsroot on"
   ]
  },
  {
   "cell_type": "code",
   "execution_count": 2,
   "metadata": {},
   "outputs": [],
   "source": [
    "float rho = 2.9; //g/cm^3\n",
    "float thickness = 0.0070; //micron"
   ]
  },
  {
   "cell_type": "code",
   "execution_count": 3,
   "metadata": {},
   "outputs": [
    {
     "name": "stdout",
     "output_type": "stream",
     "text": [
      "Estimated energy loss: 0.0406 MeV \n"
     ]
    }
   ],
   "source": [
    "float eloss = 2 * rho * thickness;\n",
    "cout<<\"Estimated energy loss: \"<<eloss<<\" MeV \"<<endl; "
   ]
  },
  {
   "cell_type": "markdown",
   "metadata": {},
   "source": [
    "## Doing plots from our simulation\n",
    "Energy loss in nuclear emulsion film volumes, separated for different particles."
   ]
  },
  {
   "cell_type": "code",
   "execution_count": 4,
   "metadata": {},
   "outputs": [
    {
     "name": "stderr",
     "output_type": "stream",
     "text": [
      "Info in <TCanvas::MakeDefCanvas>:  created default TCanvas with name c1\n"
     ]
    }
   ],
   "source": [
    "TFile *inputfile = TFile::Open(\"/home/antonio/Simulations/sim_nutau/prova/ship.conical.Genie-TGeant4.root\");\n",
    "TTree *cbmsim = (TTree*) inputfile->Get(\"cbmsim\");\n",
    "\n",
    "cbmsim->Draw(\"TargetPoint.fELoss*1e+3>>helectrons(1000,0,1)\",\"TMath::Abs(TargetPoint.fPdgCode)==11\");\n",
    "cbmsim->Draw(\"TargetPoint.fELoss*1e+3>>hmuons(1000,0,1)\",\"TMath::Abs(TargetPoint.fPdgCode)==13\");\n",
    "cbmsim->Draw(\"TargetPoint.fELoss*1e+3>>hother(1000,0,1)\",\"TMath::Abs(TargetPoint.fPdgCode)!=13 && TMath::Abs(TargetPoint.fPdgCode)!=11\");\n",
    "\n",
    "TH1D *helectrons = (TH1D*) gDirectory->Get(\"helectrons\");\n",
    "TH1D *hmuons = (TH1D*) gDirectory->Get(\"hmuons\");\n",
    "TH1D *hother = (TH1D*) gDirectory->Get(\"hother\");"
   ]
  },
  {
   "cell_type": "code",
   "execution_count": 5,
   "metadata": {},
   "outputs": [],
   "source": [
    "helectrons->SetLineColor(kBlue);\n",
    "helectrons->SetTitle(\"Electrons\");\n",
    "hmuons->SetLineColor(kRed);\n",
    "hmuons->SetTitle(\"Muons\");\n",
    "hother->SetTitle(\"Other\");\n"
   ]
  },
  {
   "cell_type": "code",
   "execution_count": 6,
   "metadata": {},
   "outputs": [
    {
     "data": {
      "image/png": "[encoded data removed]",
      "text/plain": [
       "<IPython.core.display.Image object>"
      ]
     },
     "metadata": {},
     "output_type": "display_data"
    },
    {
     "name": "stderr",
     "output_type": "stream",
     "text": [
      "Info in <TCanvas::SaveAs>: ROOT file energylossemulsionfilms.root has been created\n"
     ]
    }
   ],
   "source": [
    "TCanvas *c1 = new TCanvas();\n",
    "helectrons->GetXaxis()->SetTitle(\"E[MeV]\");\n",
    "helectrons->GetXaxis()->SetRangeUser(0,0.2);\n",
    "helectrons->Draw();\n",
    "hmuons->Draw(\"SAMES\");\n",
    "hother->Draw(\"SAMES\");\n",
    "c1->SetLogy();\n",
    "c1->BuildLegend();\n",
    "gStyle->SetLegendFont(60);\n",
    "c1->Draw();\n",
    "c1->Print(\"energylossemulsionfilms.root\");"
   ]
  },
  {
   "cell_type": "code",
   "execution_count": null,
   "metadata": {},
   "outputs": [],
   "source": []
  },
  {
   "cell_type": "code",
   "execution_count": null,
   "metadata": {},
   "outputs": [],
   "source": []
  }
 ],
 "metadata": {
  "kernelspec": {
   "display_name": "ROOT C++",
   "language": "c++",
   "name": "root"
  },
  "language_info": {
   "codemirror_mode": "text/x-c++src",
   "file_extension": ".C",
   "mimetype": " text/x-c++src",
   "name": "c++"
  }
 },
 "nbformat": 4,
 "nbformat_minor": 2
}
